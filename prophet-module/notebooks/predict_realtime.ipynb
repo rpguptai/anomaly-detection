{
 "cells": [
  {
   "cell_type": "code",
   "execution_count": 1,
   "metadata": {},
   "outputs": [],
   "source": [
    "import pandas as pd\n",
    "from fbprophet import Prophet\n",
    "import json\n",
    "from fbprophet.serialize import model_to_json, model_from_json\n",
    "    \n",
    "def predict_with_model(dataframe,modelName):\n",
    "    with open(\"../models/\"+modelName+\".json\", 'r') as fin:\n",
    "        model_Loaded = model_from_json(json.load(fin))\n",
    "    \n",
    "    forecast = model_Loaded.predict(dataframe)\n",
    "    return forecast"
   ]
  },
  {
   "cell_type": "code",
   "execution_count": null,
   "metadata": {},
   "outputs": [],
   "source": []
  },
  {
   "cell_type": "code",
   "execution_count": 2,
   "metadata": {},
   "outputs": [],
   "source": [
    "def isAnomaly(dataframe,modelName):\n",
    "    forecast = predict_with_model(dataframe,modelName)\n",
    "    print(\"THE UPPER LIMIT -> \"+ str(forecast.iloc[0]['yhat_upper']))\n",
    "    print(\"THE LOWER LIMIT -> \"+ str(forecast.iloc[0]['yhat_lower']))\n",
    "    if((forecast.iloc[0]['yhat_upper'] > dataframe.iloc[0]['y']) and (forecast.iloc[0]['yhat_lower'] < dataframe.iloc[0]['y'])):\n",
    "        return False\n",
    "    else:\n",
    "        return True"
   ]
  },
  {
   "cell_type": "code",
   "execution_count": null,
   "metadata": {},
   "outputs": [],
   "source": []
  },
  {
   "cell_type": "code",
   "execution_count": 3,
   "metadata": {},
   "outputs": [
    {
     "name": "stdout",
     "output_type": "stream",
     "text": [
      "THE UPPER LIMIT -> 7.952934843479987\n",
      "THE LOWER LIMIT -> 5.803317290745717\n",
      "True\n"
     ]
    }
   ],
   "source": [
    "data = {'ds': ['2016-02-25'],\n",
    "    'y': [8.89137400948464]\n",
    "    }\n",
    "testDF = pd.DataFrame(data, columns = ['ds', 'y'])\n",
    "result = isAnomaly(testDF,\"serialized_prophet_model\")\n",
    "print(result)"
   ]
  },
  {
   "cell_type": "code",
   "execution_count": null,
   "metadata": {},
   "outputs": [],
   "source": []
  },
  {
   "cell_type": "code",
   "execution_count": null,
   "metadata": {},
   "outputs": [],
   "source": []
  }
 ],
 "metadata": {
  "kernelspec": {
   "display_name": "Python 3",
   "language": "python",
   "name": "python3"
  },
  "language_info": {
   "codemirror_mode": {
    "name": "ipython",
    "version": 3
   },
   "file_extension": ".py",
   "mimetype": "text/x-python",
   "name": "python",
   "nbconvert_exporter": "python",
   "pygments_lexer": "ipython3",
   "version": "3.8.5"
  }
 },
 "nbformat": 4,
 "nbformat_minor": 4
}
